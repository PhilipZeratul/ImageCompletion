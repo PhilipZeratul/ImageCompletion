{
 "cells": [
  {
   "cell_type": "code",
   "execution_count": 1,
   "metadata": {
    "collapsed": false
   },
   "outputs": [],
   "source": [
    "import numpy as np"
   ]
  },
  {
   "cell_type": "code",
   "execution_count": 2,
   "metadata": {
    "collapsed": false
   },
   "outputs": [],
   "source": [
    "def ComputeLeftChild(tree, parent, computeCol=True):\n",
    "    index = 2*parent+1\n",
    "    if index >= len(tree):\n",
    "        return\n",
    "    \n",
    "    delta = 2**int((int(np.log2(parent+1))/2)) # level = int(log2(index+1))     \n",
    "    if computeCol:\n",
    "        p = tree[parent].shape[0]\n",
    "        tree[index] = np.zeros((p, p - delta), dtype=int)\n",
    "        for i in xrange(0, p - delta):\n",
    "            tree[index][:, i] = tree[parent][:, i] - tree[parent][:, i+delta]\n",
    "            \n",
    "    else:\n",
    "        p = tree[parent].shape[1]\n",
    "        tree[index] = np.zeros((p, p), dtype=int)\n",
    "        for i in xrange(0, p):\n",
    "            tree[index][i, :] = tree[parent][i, :] - tree[parent][i+delta, :]\n",
    "\n",
    "    computeCol = not computeCol\n",
    "    ComputeLeftChild(tree, index, computeCol)\n",
    "    ComputeRightChild(tree, index, computeCol)\n",
    "    return"
   ]
  },
  {
   "cell_type": "code",
   "execution_count": 3,
   "metadata": {
    "collapsed": true
   },
   "outputs": [],
   "source": [
    "def ComputeRightChild(tree, parent, computeCol=True):\n",
    "    index = 2*parent+2\n",
    "    if index >= len(tree):\n",
    "        return\n",
    "    \n",
    "    delta = 2**int((int(np.log2(parent+1))/2)) # level = int(log2(index+1))\n",
    "    if computeCol:\n",
    "        p = tree[parent].shape[0]\n",
    "        tree[index] = np.zeros((p, p - delta), dtype=int)\n",
    "        for i in xrange(0, p - delta):\n",
    "            tree[index][:, i] = tree[parent][:, i] + tree[parent][:, i+delta]\n",
    "            \n",
    "    else:\n",
    "        p = tree[parent].shape[1]\n",
    "        tree[index] = np.zeros((p, p), dtype=int)\n",
    "        for i in xrange(0, p):            \n",
    "            tree[index][i, :] = tree[parent][i, :] + tree[parent][i+delta, :] \n",
    "    \n",
    "    computeCol = not computeCol\n",
    "    ComputeLeftChild(tree, index, computeCol)\n",
    "    ComputeRightChild(tree, index, computeCol)\n",
    "    return"
   ]
  },
  {
   "cell_type": "code",
   "execution_count": 4,
   "metadata": {
    "collapsed": true
   },
   "outputs": [],
   "source": [
    "# Construct WHT compute tree\n",
    "def WHTTree(input):\n",
    "    # Check if input is valid\n",
    "    m = np.log2(input.shape[0])\n",
    "    if not m.is_integer:\n",
    "        print(\"Error: WHTTree input shape is not power of 2!\")\n",
    "        return\n",
    "    if not m == np.log2(input.shape[1]):\n",
    "        print(\"Error: WHTTree input is not square matrix!\")\n",
    "        return\n",
    "    \n",
    "    h = 2*m # Levels of binary tree\n",
    "    length = int(2**(h+1)-1) # Total length of full binary tree\n",
    "    tree = np.empty(length, dtype=object)        \n",
    "    tree[0] = input\n",
    "        \n",
    "    ComputeLeftChild(tree, 0, True)\n",
    "    ComputeRightChild(tree, 0, True)                     \n",
    "    return tree"
   ]
  },
  {
   "cell_type": "code",
   "execution_count": 21,
   "metadata": {
    "collapsed": true
   },
   "outputs": [],
   "source": [
    "m = 3 \n",
    "p = 2**m # window(patch) size"
   ]
  },
  {
   "cell_type": "code",
   "execution_count": 22,
   "metadata": {
    "collapsed": false
   },
   "outputs": [
    {
     "name": "stdout",
     "output_type": "stream",
     "text": [
      "[[189 249 215  36  80 106  98  38]\n",
      " [104  28 214   2 205  80 136 102]\n",
      " [175 157 174 120 174  34  54 142]\n",
      " [121 183 163 150  95  26  53 242]\n",
      " [ 37  70  56 137   7 107 253 188]\n",
      " [190  56  84  75  18 164  27   6]\n",
      " [186 241 204 103 234  40 252 236]\n",
      " [114  31 144 119 118 201  67 156]]\n"
     ]
    }
   ],
   "source": [
    "#input = np.array([[1,2,3,4],[5,6,7,8],[9,10,11,12],[13,14,15,16]])\n",
    "input = np.random.randint(255, size=(p, p))\n",
    "print(input)"
   ]
  },
  {
   "cell_type": "code",
   "execution_count": 23,
   "metadata": {
    "collapsed": false
   },
   "outputs": [],
   "source": [
    "tree = WHTTree(input)"
   ]
  },
  {
   "cell_type": "code",
   "execution_count": 24,
   "metadata": {
    "collapsed": false
   },
   "outputs": [
    {
     "data": {
      "text/plain": [
       "array([ -302,   312,  -256,  -322,   608,  -322,  -154,  -388,   -90,\n",
       "         104,  -100, -1074,   696,  -886,  -154,   152,  -570,  1004,\n",
       "        -500,  -990, -1200,  -754,    78,   -68,    50,   196,   968,\n",
       "         322,     0,   610,   494,   616,   652,   162,   618,  -536,\n",
       "        -722,   980,  1228,  -214,  1072,   -30,   454,  -168,   902,\n",
       "         224,  -644,   918,  -244,  -126,   394,   272,  -102,   496,\n",
       "         360,  -226,  -328,  -134,   790, -1152,   842,   388,    24,  7866])"
      ]
     },
     "execution_count": 24,
     "metadata": {},
     "output_type": "execute_result"
    }
   ],
   "source": [
    "np.vstack(tree[-2**(2*m):]).flatten() # All the leaf nodes in the full binary tree to a flat array"
   ]
  },
  {
   "cell_type": "code",
   "execution_count": null,
   "metadata": {
    "collapsed": true
   },
   "outputs": [],
   "source": []
  },
  {
   "cell_type": "code",
   "execution_count": 25,
   "metadata": {
    "collapsed": true
   },
   "outputs": [],
   "source": [
    "# Test in 800*600 image"
   ]
  },
  {
   "cell_type": "code",
   "execution_count": 26,
   "metadata": {
    "collapsed": false
   },
   "outputs": [],
   "source": [
    "IMAGE_WIDTH = 80\n",
    "IAMGE_HEIGHT = 60\n",
    "\n",
    "sourceImage = np.random.randint(255, size=(IAMGE_HEIGHT, IMAGE_WIDTH))\n",
    "\n",
    "for i in xrange(0, IAMGE_HEIGHT - p):\n",
    "    for j in xrange(0, IMAGE_WIDTH - p):\n",
    "        input = sourceImage[i:i+p, j:j+p]\n",
    "        # Can be simplified to better performance\n",
    "        tree = WHTTree(input)\n",
    "        np.vstack(tree[-2**(2*m):]).flatten()\n",
    "        "
   ]
  },
  {
   "cell_type": "code",
   "execution_count": null,
   "metadata": {
    "collapsed": true
   },
   "outputs": [],
   "source": [
    "# 3s perhaps\n",
    "# Can be simplyfied 2**3 = 64, just compute the first(in a predefined order) 16 results "
   ]
  }
 ],
 "metadata": {
  "kernelspec": {
   "display_name": "Python 2",
   "language": "python",
   "name": "python2"
  },
  "language_info": {
   "codemirror_mode": {
    "name": "ipython",
    "version": 2
   },
   "file_extension": ".py",
   "mimetype": "text/x-python",
   "name": "python",
   "nbconvert_exporter": "python",
   "pygments_lexer": "ipython2",
   "version": "2.7.10"
  }
 },
 "nbformat": 4,
 "nbformat_minor": 1
}
