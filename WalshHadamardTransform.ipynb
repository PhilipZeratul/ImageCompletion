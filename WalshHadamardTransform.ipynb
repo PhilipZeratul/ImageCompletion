{
 "cells": [
  {
   "cell_type": "code",
   "execution_count": 1,
   "metadata": {
    "collapsed": false
   },
   "outputs": [],
   "source": [
    "import numpy as np"
   ]
  },
  {
   "cell_type": "code",
   "execution_count": 2,
   "metadata": {
    "collapsed": false
   },
   "outputs": [],
   "source": [
    "def ComputeLeftChild(tree, parent, computeCol=True):\n",
    "    index = 2*parent+1\n",
    "    if index >= len(tree):\n",
    "        return\n",
    "    \n",
    "    delta = 2**int((int(np.log2(parent+1))/2)) # level = int(log2(index+1))     \n",
    "    if computeCol:\n",
    "        p = tree[parent].shape[0]\n",
    "        tree[index] = np.zeros((p, p - delta), dtype=int)\n",
    "        for i in xrange(0, p - delta):\n",
    "            tree[index][:, i] = tree[parent][:, i] - tree[parent][:, i+delta]\n",
    "            \n",
    "    else:\n",
    "        p = tree[parent].shape[1]\n",
    "        tree[index] = np.zeros((p, p), dtype=int)\n",
    "        for i in xrange(0, p):\n",
    "            tree[index][i, :] = tree[parent][i, :] - tree[parent][i+delta, :]\n",
    "\n",
    "    computeCol = not computeCol\n",
    "    ComputeLeftChild(tree, index, computeCol)\n",
    "    ComputeRightChild(tree, index, computeCol)\n",
    "    return"
   ]
  },
  {
   "cell_type": "code",
   "execution_count": 3,
   "metadata": {
    "collapsed": true
   },
   "outputs": [],
   "source": [
    "def ComputeRightChild(tree, parent, computeCol=True):\n",
    "    index = 2*parent+2\n",
    "    if index >= len(tree):\n",
    "        return\n",
    "    \n",
    "    delta = 2**int((int(np.log2(parent+1))/2)) # level = int(log2(index+1))\n",
    "    if computeCol:\n",
    "        p = tree[parent].shape[0]\n",
    "        tree[index] = np.zeros((p, p - delta), dtype=int)\n",
    "        for i in xrange(0, p - delta):\n",
    "            tree[index][:, i] = tree[parent][:, i] + tree[parent][:, i+delta]\n",
    "            \n",
    "    else:\n",
    "        p = tree[parent].shape[1]\n",
    "        tree[index] = np.zeros((p, p), dtype=int)\n",
    "        for i in xrange(0, p):            \n",
    "            tree[index][i, :] = tree[parent][i, :] + tree[parent][i+delta, :] \n",
    "    \n",
    "    computeCol = not computeCol\n",
    "    ComputeLeftChild(tree, index, computeCol)\n",
    "    ComputeRightChild(tree, index, computeCol)\n",
    "    return"
   ]
  },
  {
   "cell_type": "code",
   "execution_count": 4,
   "metadata": {
    "collapsed": true
   },
   "outputs": [],
   "source": [
    "# Construct WHT compute tree\n",
    "def WHTTree(input):\n",
    "    # Check if input is valid\n",
    "    m = np.log2(input.shape[0])\n",
    "    if not m.is_integer:\n",
    "        print(\"input shape is not power of 2!\")\n",
    "        return\n",
    "    if not m == np.log2(input.shape[1]):\n",
    "        print(\"input is not square matrix!\")\n",
    "        return\n",
    "    \n",
    "    h = 2*m # Levels of binary tree\n",
    "    length = int(2**(h+1)-1) # Total length of full binary tree\n",
    "    tree = np.empty(length, dtype=object)        \n",
    "    tree[0] = input\n",
    "        \n",
    "    ComputeLeftChild(tree, 0, True)\n",
    "    ComputeRightChild(tree, 0, True)                     \n",
    "    return tree"
   ]
  },
  {
   "cell_type": "code",
   "execution_count": 64,
   "metadata": {
    "collapsed": true
   },
   "outputs": [],
   "source": [
    "m = 2 \n",
    "p = 2**m # window(patch) size"
   ]
  },
  {
   "cell_type": "code",
   "execution_count": 65,
   "metadata": {
    "collapsed": false
   },
   "outputs": [
    {
     "name": "stdout",
     "output_type": "stream",
     "text": [
      "[[ 1  2  3  4]\n",
      " [ 5  6  7  8]\n",
      " [ 9 10 11 12]\n",
      " [13 14 15 16]]\n"
     ]
    }
   ],
   "source": [
    "input = np.array([[1,2,3,4],[5,6,7,8],[9,10,11,12],[13,14,15,16]])\n",
    "#input = np.random.randint(255, size=(p, p))\n",
    "print(input)"
   ]
  },
  {
   "cell_type": "code",
   "execution_count": 66,
   "metadata": {
    "collapsed": false
   },
   "outputs": [],
   "source": [
    "tree = WHTTree(input)"
   ]
  },
  {
   "cell_type": "code",
   "execution_count": 67,
   "metadata": {
    "collapsed": false
   },
   "outputs": [
    {
     "data": {
      "text/plain": [
       "array([  0,   0,   0,   0,   0,   0,   0,  -8,   0,   0,   0, -32,   0,\n",
       "       -16, -64, 136])"
      ]
     },
     "execution_count": 67,
     "metadata": {},
     "output_type": "execute_result"
    }
   ],
   "source": [
    "np.vstack(tree[-2**(2*m):]).flatten() # All the leaf nodes in the full binary tree to a flat array"
   ]
  },
  {
   "cell_type": "code",
   "execution_count": null,
   "metadata": {
    "collapsed": true
   },
   "outputs": [],
   "source": []
  },
  {
   "cell_type": "code",
   "execution_count": null,
   "metadata": {
    "collapsed": true
   },
   "outputs": [],
   "source": [
    "# Test in 800*600 image"
   ]
  },
  {
   "cell_type": "code",
   "execution_count": 69,
   "metadata": {
    "collapsed": true
   },
   "outputs": [],
   "source": [
    "IMAGE_WIDTH = 800\n",
    "IAMGE_HEIGHT = 600\n",
    "\n",
    "sourceImage = np.random.randint(255, size=(IMAGE_WIDTH, IAMGE_HEIGHT))\n",
    "\n",
    "for i in xrange(p, IAMGE_HEIGHT - p):\n",
    "    for j in xrange(p, IMAGE_WIDTH - p):\n",
    "        input = sourceImage[i-p:i+p, j-p:j+p]"
   ]
  },
  {
   "cell_type": "code",
   "execution_count": 72,
   "metadata": {
    "collapsed": true
   },
   "outputs": [],
   "source": [
    "input = sourceImage[20-3:20+3, 15-3:15+3]"
   ]
  },
  {
   "cell_type": "code",
   "execution_count": 73,
   "metadata": {
    "collapsed": false
   },
   "outputs": [
    {
     "data": {
      "text/plain": [
       "array([[221, 232, 190, 127,  87, 220],\n",
       "       [ 97,  34, 200, 200,  99,  63],\n",
       "       [ 57,  54,  13, 233,  91, 252],\n",
       "       [199,  15, 230, 117, 209,  89],\n",
       "       [ 83, 125,  18, 162,  96,  98],\n",
       "       [233,   6, 125, 141, 125, 176]])"
      ]
     },
     "execution_count": 73,
     "metadata": {},
     "output_type": "execute_result"
    }
   ],
   "source": [
    "input"
   ]
  },
  {
   "cell_type": "code",
   "execution_count": null,
   "metadata": {
    "collapsed": true
   },
   "outputs": [],
   "source": []
  }
 ],
 "metadata": {
  "kernelspec": {
   "display_name": "Python 2",
   "language": "python",
   "name": "python2"
  },
  "language_info": {
   "codemirror_mode": {
    "name": "ipython",
    "version": 2
   },
   "file_extension": ".py",
   "mimetype": "text/x-python",
   "name": "python",
   "nbconvert_exporter": "python",
   "pygments_lexer": "ipython2",
   "version": "2.7.10"
  }
 },
 "nbformat": 4,
 "nbformat_minor": 1
}
