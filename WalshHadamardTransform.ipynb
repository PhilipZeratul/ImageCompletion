{
 "cells": [
  {
   "cell_type": "code",
   "execution_count": 13,
   "metadata": {
    "collapsed": false
   },
   "outputs": [],
   "source": [
    "import numpy as np\n",
    "import math"
   ]
  },
  {
   "cell_type": "code",
   "execution_count": 14,
   "metadata": {
    "collapsed": false
   },
   "outputs": [],
   "source": [
    "def ComputeTreeNodes(tree):    \n",
    "    n = len(tree)                       # num of nodes (1, 2, 3, ...)\n",
    "    h = int(math.ceil(np.log2(n+1)))    # total layers (1, 2, 3, ...)    \n",
    "    seed = [1, -1, 1, -1, -1, 1, -1, 1] # calculation sign seed\n",
    "\n",
    "    for layer in xrange(1, h):\n",
    "        delta = 2**int(math.floor((layer-1)/2))\n",
    "        seedPointer = 0\n",
    "        for node in xrange(2**layer-1, min(n, 2**(layer+1)-1)):             \n",
    "            parent = int(math.floor((node-1)/2))\n",
    "\n",
    "            # compute row |   \n",
    "            if layer%2 == 0:         \n",
    "                p = tree[parent].shape[1]\n",
    "                tree[node] = np.zeros((p, p), dtype=int)\n",
    "                for i in xrange(0, p):            \n",
    "                    tree[node][i, :] = tree[parent][i, :] + tree[parent][i+delta, :]*seed[seedPointer]\n",
    "            \n",
    "            # compute col ->\n",
    "            else:\n",
    "                p = tree[parent].shape[0]\n",
    "                tree[node] = np.zeros((p, p - delta), dtype=int)\n",
    "\n",
    "                for i in xrange(0, p - delta):\n",
    "                    tree[node][:, i] = tree[parent][:, i] + tree[parent][:, i+delta]*seed[seedPointer]\n",
    "        \n",
    "            seedPointer = (seedPointer+1)%8"
   ]
  },
  {
   "cell_type": "code",
   "execution_count": 15,
   "metadata": {
    "collapsed": true
   },
   "outputs": [],
   "source": [
    "# Construct WHT compute tree\n",
    "def WHTTree(input, numOfBase):\n",
    "    # Check if input is valid\n",
    "    m = np.log2(input.shape[0])\n",
    "    if not m.is_integer:\n",
    "        print(\"Error: WHTTree input shape is not power of 2!\")\n",
    "        return\n",
    "    if not m == np.log2(input.shape[1]):\n",
    "        print(\"Error: WHTTree input is not square matrix!\")\n",
    "        return\n",
    "    \n",
    "    h = 2*m # Levels of binary tree\n",
    "    length = int(2**(h)-1) + numOfBase # Total length of full binary tree\n",
    "    tree = np.empty(length, dtype=object)        \n",
    "    tree[0] = input\n",
    "     \n",
    "    ComputeTreeNodes(tree)\n",
    "    return tree"
   ]
  },
  {
   "cell_type": "code",
   "execution_count": 12,
   "metadata": {
    "collapsed": true
   },
   "outputs": [],
   "source": [
    "m = 3\n",
    "p = 2**m # window(patch) size\n",
    "numOfBase = 16"
   ]
  },
  {
   "cell_type": "code",
   "execution_count": 17,
   "metadata": {
    "collapsed": false
   },
   "outputs": [
    {
     "name": "stdout",
     "output_type": "stream",
     "text": [
      "[[149 182 205 243]\n",
      " [143  19 141 166]\n",
      " [158  99 170   5]\n",
      " [201 145 240  33]]\n"
     ]
    }
   ],
   "source": [
    "#input = np.array([[1,2,3,4],[5,6,7,8],[9,10,11,12],[13,14,15,16]])\n",
    "input = np.random.randint(255, size=(p, p))\n",
    "print(input)"
   ]
  },
  {
   "cell_type": "code",
   "execution_count": 18,
   "metadata": {
    "collapsed": false
   },
   "outputs": [],
   "source": [
    "tree = WHTTree(input, numOfBase)"
   ]
  },
  {
   "cell_type": "code",
   "execution_count": 19,
   "metadata": {
    "collapsed": false
   },
   "outputs": [
    {
     "data": {
      "text/plain": [
       "array([2299,  197, -107, -417])"
      ]
     },
     "execution_count": 19,
     "metadata": {},
     "output_type": "execute_result"
    }
   ],
   "source": [
    "np.vstack(tree[-numOfBase:]).flatten() # The last numOfBase bases in the tree"
   ]
  },
  {
   "cell_type": "code",
   "execution_count": null,
   "metadata": {
    "collapsed": true
   },
   "outputs": [],
   "source": []
  },
  {
   "cell_type": "code",
   "execution_count": 20,
   "metadata": {
    "collapsed": true
   },
   "outputs": [],
   "source": [
    "# Test in 800*600 image"
   ]
  },
  {
   "cell_type": "code",
   "execution_count": 21,
   "metadata": {
    "collapsed": false
   },
   "outputs": [
    {
     "name": "stdout",
     "output_type": "stream",
     "text": [
      "794\n"
     ]
    }
   ],
   "source": [
    "import time\n",
    "\n",
    "IMAGE_WIDTH = 80\n",
    "IAMGE_HEIGHT = 60\n",
    "sourceImage = np.random.randint(255, size=(IAMGE_HEIGHT, IMAGE_WIDTH))\n",
    "\n",
    "startTime = int(round(time.time() * 1000))\n",
    "#\n",
    "for i in xrange(0, IAMGE_HEIGHT - p):\n",
    "    for j in xrange(0, IMAGE_WIDTH - p):\n",
    "        input = sourceImage[i:i+p, j:j+p]\n",
    "        # Can be simplified to better performance\n",
    "        tree = WHTTree(input, numOfBase)\n",
    "        np.vstack(tree[-numOfBase:]).flatten()\n",
    "#       \n",
    "endTime = int(round(time.time() * 1000))\n",
    "elaps = endTime - startTime\n",
    "print(elaps)"
   ]
  },
  {
   "cell_type": "code",
   "execution_count": null,
   "metadata": {
    "collapsed": true
   },
   "outputs": [],
   "source": [
    "# 4.8s perhaps\n",
    "# Can be simplyfied 2**3 = 64, just compute the first(in a predefined order) 16 results "
   ]
  },
  {
   "cell_type": "code",
   "execution_count": null,
   "metadata": {
    "collapsed": true
   },
   "outputs": [],
   "source": []
  },
  {
   "cell_type": "code",
   "execution_count": null,
   "metadata": {
    "collapsed": true
   },
   "outputs": [],
   "source": []
  },
  {
   "cell_type": "code",
   "execution_count": null,
   "metadata": {
    "collapsed": true
   },
   "outputs": [],
   "source": []
  },
  {
   "cell_type": "code",
   "execution_count": null,
   "metadata": {
    "collapsed": true
   },
   "outputs": [],
   "source": [
    "# playground"
   ]
  },
  {
   "cell_type": "code",
   "execution_count": 7,
   "metadata": {
    "collapsed": false
   },
   "outputs": [
    {
     "data": {
      "text/plain": [
       "2.3219280948873622"
      ]
     },
     "execution_count": 7,
     "metadata": {},
     "output_type": "execute_result"
    }
   ],
   "source": [
    "np.log2(5)"
   ]
  },
  {
   "cell_type": "code",
   "execution_count": 10,
   "metadata": {
    "collapsed": false
   },
   "outputs": [
    {
     "data": {
      "text/plain": [
       "3.0"
      ]
     },
     "execution_count": 10,
     "metadata": {},
     "output_type": "execute_result"
    }
   ],
   "source": [
    "math.floor(3.2)"
   ]
  },
  {
   "cell_type": "code",
   "execution_count": 8,
   "metadata": {
    "collapsed": false
   },
   "outputs": [
    {
     "name": "stdout",
     "output_type": "stream",
     "text": [
      "1\n",
      "2\n",
      "3\n",
      "4\n"
     ]
    }
   ],
   "source": [
    "for i in xrange(1,5):\n",
    "    print(i)"
   ]
  },
  {
   "cell_type": "code",
   "execution_count": null,
   "metadata": {
    "collapsed": true
   },
   "outputs": [],
   "source": []
  },
  {
   "cell_type": "code",
   "execution_count": 2,
   "metadata": {
    "collapsed": false
   },
   "outputs": [],
   "source": [
    "def ComputeLeftChild(tree, parent, computeCol=True):\n",
    "    index = 2*parent+1\n",
    "    if index >= len(tree):\n",
    "        return\n",
    "    \n",
    "    delta = 2**int((int(np.log2(parent+1))/2)) # level = int(log2(index+1))     \n",
    "    if computeCol:\n",
    "        p = tree[parent].shape[0]\n",
    "        tree[index] = np.zeros((p, p - delta), dtype=int)\n",
    "        for i in xrange(0, p - delta):\n",
    "            tree[index][:, i] = tree[parent][:, i] - tree[parent][:, i+delta]\n",
    "            \n",
    "    else:\n",
    "        p = tree[parent].shape[1]\n",
    "        tree[index] = np.zeros((p, p), dtype=int)\n",
    "        for i in xrange(0, p):\n",
    "            tree[index][i, :] = tree[parent][i, :] - tree[parent][i+delta, :]\n",
    "\n",
    "    computeCol = not computeCol\n",
    "    ComputeLeftChild(tree, index, computeCol)\n",
    "    ComputeRightChild(tree, index, computeCol)"
   ]
  },
  {
   "cell_type": "code",
   "execution_count": 3,
   "metadata": {
    "collapsed": true
   },
   "outputs": [],
   "source": [
    "def ComputeRightChild(tree, parent, computeCol=True):\n",
    "    index = 2*parent+2\n",
    "    if index >= len(tree):\n",
    "        return\n",
    "    \n",
    "    delta = 2**int((int(np.log2(parent+1))/2)) # level = int(log2(index+1))\n",
    "    if computeCol:\n",
    "        p = tree[parent].shape[0]\n",
    "        tree[index] = np.zeros((p, p - delta), dtype=int)\n",
    "        for i in xrange(0, p - delta):\n",
    "            tree[index][:, i] = tree[parent][:, i] + tree[parent][:, i+delta]\n",
    "            \n",
    "    else:\n",
    "        p = tree[parent].shape[1]\n",
    "        tree[index] = np.zeros((p, p), dtype=int)\n",
    "        for i in xrange(0, p):            \n",
    "            tree[index][i, :] = tree[parent][i, :] + tree[parent][i+delta, :] \n",
    "    \n",
    "    computeCol = not computeCol\n",
    "    ComputeLeftChild(tree, index, computeCol)\n",
    "    ComputeRightChild(tree, index, computeCol)"
   ]
  }
 ],
 "metadata": {
  "kernelspec": {
   "display_name": "Python 2",
   "language": "python",
   "name": "python2"
  },
  "language_info": {
   "codemirror_mode": {
    "name": "ipython",
    "version": 2
   },
   "file_extension": ".py",
   "mimetype": "text/x-python",
   "name": "python",
   "nbconvert_exporter": "python",
   "pygments_lexer": "ipython2",
   "version": "2.7.10"
  }
 },
 "nbformat": 4,
 "nbformat_minor": 1
}
