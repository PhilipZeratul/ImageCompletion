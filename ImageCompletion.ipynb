{
 "cells": [
  {
   "cell_type": "code",
   "execution_count": 10,
   "metadata": {
    "collapsed": false
   },
   "outputs": [],
   "source": [
    "import numpy as np\n",
    "import scipy\n",
    "import cv2\n",
    "from WalshHadamardTransform import WHTTree\n",
    "import time"
   ]
  },
  {
   "cell_type": "code",
   "execution_count": 11,
   "metadata": {
    "collapsed": false
   },
   "outputs": [],
   "source": [
    "sourceImage = cv2.imread(\"OceanImage.jpg\")\n",
    "sourceImageYCC = cv2.cvtColor(sourceImage, cv2.COLOR_BGR2YCR_CB)\n",
    "sourceY, sourceCr, sourceCb = cv2.split(sourceImageYCC)\n",
    "\n",
    "IMAGE_HEIGHT, IMAGE_WIDTH = sourceImageYCC.shape[:2]"
   ]
  },
  {
   "cell_type": "code",
   "execution_count": 13,
   "metadata": {
    "collapsed": false
   },
   "outputs": [
    {
     "name": "stdout",
     "output_type": "stream",
     "text": [
      "('time elapse = ', 2023)\n"
     ]
    }
   ],
   "source": [
    "m = 3\n",
    "p = 2 ** m  # window(patch) size\n",
    "numOfBaseY = 16\n",
    "numOfBaseC = 4\n",
    "\n",
    "startTime = int(round(time.time() * 1000))\n",
    "#\n",
    "treeY = WHTTree(sourceY, p, numOfBaseY)\n",
    "treeCr = WHTTree(sourceCr, p, numOfBaseC)\n",
    "treeCb = WHTTree(sourceCb, p, numOfBaseC)\n",
    "#\n",
    "endTime = int(round(time.time() * 1000))\n",
    "elapse = endTime - startTime\n",
    "print('time elapse = ', elapse)"
   ]
  },
  {
   "cell_type": "code",
   "execution_count": 14,
   "metadata": {
    "collapsed": false
   },
   "outputs": [
    {
     "name": "stdout",
     "output_type": "stream",
     "text": [
      "('time elapse = ', 6627)\n"
     ]
    }
   ],
   "source": [
    "PATCHES_HEIGHT, PATCHES_WIDTH = treeY[-1:][0].shape  # 593, 793 for 600*800\n",
    "kdTreeInput = []\n",
    "\n",
    "startTime = int(round(time.time() * 1000))\n",
    "#\n",
    "for i in xrange(0, PATCHES_HEIGHT):\n",
    "    for j in xrange(0, PATCHES_WIDTH):\n",
    "        vector = []  # 24d vector for one patch\n",
    "        for dimention in treeY[-numOfBaseY:]:\n",
    "            vector.append(dimention[i, j])\n",
    "        for dimention in treeCr[-numOfBaseC:]:\n",
    "            vector.append(dimention[i, j])\n",
    "        for dimention in treeCb[-numOfBaseC:]:\n",
    "            vector.append(dimention[i, j])\n",
    "        kdTreeInput.append(vector)\n",
    "#\n",
    "endTime = int(round(time.time() * 1000))\n",
    "elapse = endTime - startTime\n",
    "print('time elapse = ', elapse)"
   ]
  },
  {
   "cell_type": "code",
   "execution_count": 17,
   "metadata": {
    "collapsed": false
   },
   "outputs": [
    {
     "data": {
      "text/plain": [
       "[2919,\n",
       " 57,\n",
       " 13,\n",
       " 15,\n",
       " -71,\n",
       " 15,\n",
       " 15,\n",
       " -11,\n",
       " -91,\n",
       " 71,\n",
       " 47,\n",
       " 9,\n",
       " -45,\n",
       " 9,\n",
       " 13,\n",
       " -85,\n",
       " 7408,\n",
       " 0,\n",
       " 16,\n",
       " 0,\n",
       " 1344,\n",
       " 0,\n",
       " 0,\n",
       " 0]"
      ]
     },
     "execution_count": 17,
     "metadata": {},
     "output_type": "execute_result"
    }
   ],
   "source": [
    "kdTreeInput[10]"
   ]
  },
  {
   "cell_type": "code",
   "execution_count": null,
   "metadata": {
    "collapsed": true
   },
   "outputs": [],
   "source": []
  },
  {
   "cell_type": "code",
   "execution_count": null,
   "metadata": {
    "collapsed": true
   },
   "outputs": [],
   "source": [
    "# playground"
   ]
  },
  {
   "cell_type": "code",
   "execution_count": 10,
   "metadata": {
    "collapsed": false
   },
   "outputs": [
    {
     "name": "stdout",
     "output_type": "stream",
     "text": [
      "[[1 2 3 4]\n",
      " [5 6 7 8]\n",
      " [9 0 1 2]]\n"
     ]
    }
   ],
   "source": [
    "testMatrix0 = np.array([[1,2,3,4], [5,6,7,8], [9,0,1,2]], dtype=int)\n",
    "print(testMatrix0)"
   ]
  },
  {
   "cell_type": "code",
   "execution_count": 13,
   "metadata": {
    "collapsed": false
   },
   "outputs": [
    {
     "name": "stdout",
     "output_type": "stream",
     "text": [
      "[[9 0 1 2]\n",
      " [1 2 3 4]\n",
      " [5 6 7 8]]\n"
     ]
    }
   ],
   "source": [
    "testMatrix1 = np.array([[9,0,1,2], [1,2,3,4], [5,6,7,8]], dtype=int)\n",
    "print(testMatrix1)"
   ]
  },
  {
   "cell_type": "code",
   "execution_count": 14,
   "metadata": {
    "collapsed": false
   },
   "outputs": [
    {
     "name": "stdout",
     "output_type": "stream",
     "text": [
      "[[5 6 7 8]\n",
      " [9 0 1 2]\n",
      " [1 2 3 4]]\n"
     ]
    }
   ],
   "source": [
    "testMatrix2 = np.array([[5,6,7,8], [9,0,1,2], [1,2,3,4]], dtype=int)\n",
    "print(testMatrix2)"
   ]
  },
  {
   "cell_type": "code",
   "execution_count": 15,
   "metadata": {
    "collapsed": false
   },
   "outputs": [
    {
     "name": "stdout",
     "output_type": "stream",
     "text": [
      "[array([[1, 2, 3, 4],\n",
      "       [5, 6, 7, 8],\n",
      "       [9, 0, 1, 2]]), array([[9, 0, 1, 2],\n",
      "       [1, 2, 3, 4],\n",
      "       [5, 6, 7, 8]]), array([[5, 6, 7, 8],\n",
      "       [9, 0, 1, 2],\n",
      "       [1, 2, 3, 4]])]\n"
     ]
    }
   ],
   "source": [
    "matrixList = [testMatrix0, testMatrix1, testMatrix2]\n",
    "print(matrixList)"
   ]
  },
  {
   "cell_type": "code",
   "execution_count": 18,
   "metadata": {
    "collapsed": false
   },
   "outputs": [
    {
     "name": "stdout",
     "output_type": "stream",
     "text": [
      "9\n",
      "5\n"
     ]
    }
   ],
   "source": [
    "for matrix in matrixList[-2:]:\n",
    "    #matrix = matrix.flatten()\n",
    "    print(matrix[0, 0])"
   ]
  },
  {
   "cell_type": "code",
   "execution_count": 36,
   "metadata": {
    "collapsed": false
   },
   "outputs": [
    {
     "data": {
      "text/plain": [
       "[array([[1, 2, 3, 4],\n",
       "        [5, 6, 7, 8],\n",
       "        [9, 0, 1, 2]]), array([[9, 0, 1, 2],\n",
       "        [1, 2, 3, 4],\n",
       "        [5, 6, 7, 8]]), array([[5, 6, 7, 8],\n",
       "        [9, 0, 1, 2],\n",
       "        [1, 2, 3, 4]])]"
      ]
     },
     "execution_count": 36,
     "metadata": {},
     "output_type": "execute_result"
    }
   ],
   "source": [
    "matrixList"
   ]
  },
  {
   "cell_type": "code",
   "execution_count": 41,
   "metadata": {
    "collapsed": false
   },
   "outputs": [
    {
     "data": {
      "text/plain": [
       "(3, 4)"
      ]
     },
     "execution_count": 41,
     "metadata": {},
     "output_type": "execute_result"
    }
   ],
   "source": [
    "testMatrix2.shape"
   ]
  },
  {
   "cell_type": "code",
   "execution_count": null,
   "metadata": {
    "collapsed": true
   },
   "outputs": [],
   "source": []
  }
 ],
 "metadata": {
  "kernelspec": {
   "display_name": "Python 2",
   "language": "python",
   "name": "python2"
  },
  "language_info": {
   "codemirror_mode": {
    "name": "ipython",
    "version": 2
   },
   "file_extension": ".py",
   "mimetype": "text/x-python",
   "name": "python",
   "nbconvert_exporter": "python",
   "pygments_lexer": "ipython2",
   "version": "2.7.10"
  }
 },
 "nbformat": 4,
 "nbformat_minor": 1
}
