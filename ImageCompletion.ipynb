{
 "cells": [
  {
   "cell_type": "code",
   "execution_count": 1,
   "metadata": {
    "collapsed": false
   },
   "outputs": [],
   "source": [
    "import numpy as np\n",
    "import cv2"
   ]
  },
  {
   "cell_type": "code",
   "execution_count": 2,
   "metadata": {
    "collapsed": false
   },
   "outputs": [],
   "source": [
    "sourceImage = cv2.imread(\"OceanImage.jpg\")\n",
    "\n",
    "IMAGE_HEIGHT, IMAGE_WIDTH = sourceImage.shape[:2]\n",
    "PATCH_HALF_SIZE = 5  # patch size 11\n",
    "PATCH_THRESHOLD = 32 # patch threshold t = 16, 32, 64"
   ]
  },
  {
   "cell_type": "code",
   "execution_count": 3,
   "metadata": {
    "collapsed": true
   },
   "outputs": [],
   "source": [
    "patchList = []\n",
    "\n",
    "for i in xrange(PATCH_HALF_SIZE, IMAGE_HEIGHT - PATCH_HALF_SIZE): # row\n",
    "    for j in xrange(PATCH_HALF_SIZE, IMAGE_WIDTH - PATCH_HALF_SIZE): # col\n",
    "        patch = sourceImage[i - PATCH_HALF_SIZE:i + PATCH_HALF_SIZE + 1, j - PATCH_HALF_SIZE:j + PATCH_HALF_SIZE + 1]\n",
    "        patchList.append(patch.flatten())"
   ]
  },
  {
   "cell_type": "code",
   "execution_count": 12,
   "metadata": {
    "collapsed": false
   },
   "outputs": [
    {
     "ename": "KeyboardInterrupt",
     "evalue": "",
     "output_type": "error",
     "traceback": [
      "\u001b[0;31m---------------------------------------------------------------------------\u001b[0m",
      "\u001b[0;31mKeyboardInterrupt\u001b[0m                         Traceback (most recent call last)",
      "\u001b[0;32m<ipython-input-12-b2591d20d35b>\u001b[0m in \u001b[0;36m<module>\u001b[0;34m()\u001b[0m\n\u001b[1;32m      3\u001b[0m         \u001b[0;32mif\u001b[0m \u001b[0mabs\u001b[0m\u001b[0;34m(\u001b[0m\u001b[0mj\u001b[0m \u001b[0;34m-\u001b[0m \u001b[0mi\u001b[0m\u001b[0;34m)\u001b[0m \u001b[0;34m<=\u001b[0m \u001b[0mPATCH_THRESHOLD\u001b[0m\u001b[0;34m:\u001b[0m\u001b[0;34m\u001b[0m\u001b[0m\n\u001b[1;32m      4\u001b[0m             \u001b[0;32mbreak\u001b[0m\u001b[0;34m\u001b[0m\u001b[0m\n\u001b[0;32m----> 5\u001b[0;31m         \u001b[0mnp\u001b[0m\u001b[0;34m.\u001b[0m\u001b[0mlinalg\u001b[0m\u001b[0;34m.\u001b[0m\u001b[0mnorm\u001b[0m\u001b[0;34m(\u001b[0m\u001b[0mpatchList\u001b[0m\u001b[0;34m[\u001b[0m\u001b[0mi\u001b[0m\u001b[0;34m]\u001b[0m \u001b[0;34m-\u001b[0m \u001b[0mpatchList\u001b[0m\u001b[0;34m[\u001b[0m\u001b[0mj\u001b[0m\u001b[0;34m]\u001b[0m\u001b[0;34m)\u001b[0m\u001b[0;34m\u001b[0m\u001b[0m\n\u001b[0m",
      "\u001b[0;32m/Library/Python/2.7/site-packages/numpy/linalg/linalg.pyc\u001b[0m in \u001b[0;36mnorm\u001b[0;34m(x, ord, axis, keepdims)\u001b[0m\n\u001b[1;32m   2160\u001b[0m \u001b[0;34m\u001b[0m\u001b[0m\n\u001b[1;32m   2161\u001b[0m     \u001b[0;32mif\u001b[0m \u001b[0;32mnot\u001b[0m \u001b[0missubclass\u001b[0m\u001b[0;34m(\u001b[0m\u001b[0mx\u001b[0m\u001b[0;34m.\u001b[0m\u001b[0mdtype\u001b[0m\u001b[0;34m.\u001b[0m\u001b[0mtype\u001b[0m\u001b[0;34m,\u001b[0m \u001b[0;34m(\u001b[0m\u001b[0minexact\u001b[0m\u001b[0;34m,\u001b[0m \u001b[0mobject_\u001b[0m\u001b[0;34m)\u001b[0m\u001b[0;34m)\u001b[0m\u001b[0;34m:\u001b[0m\u001b[0;34m\u001b[0m\u001b[0m\n\u001b[0;32m-> 2162\u001b[0;31m         \u001b[0mx\u001b[0m \u001b[0;34m=\u001b[0m \u001b[0mx\u001b[0m\u001b[0;34m.\u001b[0m\u001b[0mastype\u001b[0m\u001b[0;34m(\u001b[0m\u001b[0mfloat\u001b[0m\u001b[0;34m)\u001b[0m\u001b[0;34m\u001b[0m\u001b[0m\n\u001b[0m\u001b[1;32m   2163\u001b[0m \u001b[0;34m\u001b[0m\u001b[0m\n\u001b[1;32m   2164\u001b[0m     \u001b[0;31m# Immediately handle some default, simple, fast, and common cases.\u001b[0m\u001b[0;34m\u001b[0m\u001b[0;34m\u001b[0m\u001b[0m\n",
      "\u001b[0;31mKeyboardInterrupt\u001b[0m: "
     ]
    }
   ],
   "source": [
    "for i in xrange(0, len(patchList)):\n",
    "    for j in xrange(0, len(patchList)):\n",
    "        if abs(j - i) <= PATCH_THRESHOLD:\n",
    "            break\n",
    "        np.linalg.norm(patchList[i] - patchList[j])"
   ]
  },
  {
   "cell_type": "code",
   "execution_count": 5,
   "metadata": {
    "collapsed": false
   },
   "outputs": [],
   "source": [
    "# display image, do not need this.\n",
    "#cv2.imshow('image', sourceImage)\n",
    "#cv2.waitKey(0)\n",
    "#cv2.waitKey(1)\n",
    "#cv2.destroyAllWindows()\n",
    "#cv2.waitKey(1)"
   ]
  },
  {
   "cell_type": "code",
   "execution_count": 10,
   "metadata": {
    "collapsed": false
   },
   "outputs": [
    {
     "data": {
      "text/plain": [
       "array([214, 176, 158, 204, 166, 148, 219, 181, 163, 216, 178, 160, 201,\n",
       "       163, 145, 192, 154, 136, 208, 170, 152, 205, 167, 149, 200, 164,\n",
       "       146, 210, 174, 156, 215, 179, 161, 202, 164, 146, 194, 156, 138,\n",
       "       214, 176, 158, 209, 171, 153, 211, 173, 155, 204, 166, 148, 223,\n",
       "       185, 167, 218, 180, 162, 215, 179, 161, 210, 174, 156, 205, 169,\n",
       "       151, 209, 171, 153, 210, 172, 154, 198, 160, 142, 214, 176, 158,\n",
       "       191, 153, 135, 210, 172, 154, 196, 158, 140, 195, 157, 139, 207,\n",
       "       171, 153, 222, 186, 168, 218, 182, 164, 203, 165, 147, 212, 174,\n",
       "       156, 221, 183, 165, 213, 175, 157, 203, 165, 147, 200, 162, 144,\n",
       "       209, 171, 153, 211, 173, 155, 224, 188, 170, 224, 188, 170, 218,\n",
       "       182, 164, 204, 166, 148, 223, 185, 167, 209, 171, 153, 233, 195,\n",
       "       177, 196, 158, 140, 226, 188, 170, 211, 173, 155, 224, 186, 168,\n",
       "       227, 191, 173, 217, 181, 163, 206, 170, 152, 212, 174, 156, 212,\n",
       "       174, 156, 217, 179, 161, 214, 176, 158, 205, 167, 149, 206, 168,\n",
       "       150, 212, 174, 156, 211, 173, 155, 211, 175, 157, 214, 178, 160,\n",
       "       201, 165, 147, 195, 157, 139, 207, 169, 151, 215, 177, 159, 229,\n",
       "       191, 173, 191, 153, 135, 205, 167, 149, 215, 177, 159, 233, 195,\n",
       "       177, 218, 182, 164, 212, 176, 158, 200, 164, 146, 217, 179, 161,\n",
       "       203, 165, 147, 210, 172, 154, 216, 178, 160, 205, 167, 149, 208,\n",
       "       170, 152, 219, 181, 163, 215, 177, 159, 206, 170, 152, 220, 184,\n",
       "       166, 207, 171, 153, 207, 171, 153, 212, 176, 158, 209, 173, 155,\n",
       "       215, 179, 161, 210, 174, 156, 199, 163, 145, 205, 169, 151, 206,\n",
       "       170, 152, 211, 176, 156, 221, 186, 166, 229, 194, 174, 214, 178,\n",
       "       160, 215, 179, 161, 208, 172, 154, 202, 166, 148, 200, 164, 146,\n",
       "       206, 170, 152, 221, 185, 167, 229, 193, 175, 205, 169, 151, 196,\n",
       "       160, 142, 194, 158, 140, 214, 178, 160, 212, 176, 158, 211, 175,\n",
       "       157, 203, 167, 149, 203, 167, 149, 211, 175, 157, 211, 175, 157,\n",
       "       211, 175, 157, 206, 169, 155, 205, 168, 154, 212, 175, 161], dtype=uint8)"
      ]
     },
     "execution_count": 10,
     "metadata": {},
     "output_type": "execute_result"
    }
   ],
   "source": [
    "patchList[0]"
   ]
  },
  {
   "cell_type": "code",
   "execution_count": null,
   "metadata": {
    "collapsed": true
   },
   "outputs": [],
   "source": []
  }
 ],
 "metadata": {
  "kernelspec": {
   "display_name": "Python 2",
   "language": "python",
   "name": "python2"
  },
  "language_info": {
   "codemirror_mode": {
    "name": "ipython",
    "version": 2
   },
   "file_extension": ".py",
   "mimetype": "text/x-python",
   "name": "python",
   "nbconvert_exporter": "python",
   "pygments_lexer": "ipython2",
   "version": "2.7.10"
  }
 },
 "nbformat": 4,
 "nbformat_minor": 1
}
