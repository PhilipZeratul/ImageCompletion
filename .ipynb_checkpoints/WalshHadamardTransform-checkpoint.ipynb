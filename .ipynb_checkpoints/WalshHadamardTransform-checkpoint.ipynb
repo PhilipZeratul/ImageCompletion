{
 "cells": [
  {
   "cell_type": "code",
   "execution_count": 34,
   "metadata": {
    "collapsed": true
   },
   "outputs": [],
   "source": [
    "import numpy as np"
   ]
  },
  {
   "cell_type": "code",
   "execution_count": 41,
   "metadata": {
    "collapsed": false
   },
   "outputs": [],
   "source": [
    "def ComputeLeftChild(tree, parent, computeCol=True):\n",
    "    index = 2*parent+1\n",
    "    if index >= len(tree):\n",
    "        return\n",
    "    \n",
    "    print(\"parent = \", parent)\n",
    "    \n",
    "    delta = 2**int((int(np.log2(parent+1))/2)) # level = int(log2(index+1)) \n",
    "    p = tree[parent].shape[1]\n",
    "    tree[index] = np.zeros((p, p), dtype=int)\n",
    "    \n",
    "    if computeCol:\n",
    "        for i in xrange(0, p):\n",
    "            print(\"i = \", i)\n",
    "            tree[index][:, i] = tree[parent][:, i] - tree[parent][:, (i+delta)%p]\n",
    "            \n",
    "    #else: \n",
    "        \n",
    "        \n",
    "    \n",
    "    print(tree[index])  \n",
    "    \n",
    "    computeCol = not computeCol\n",
    "    ComputeLeftChild(tree, index, computeCol)\n",
    "    ComputeRightChild(tree, index, computeCol)\n",
    "    return"
   ]
  },
  {
   "cell_type": "code",
   "execution_count": 42,
   "metadata": {
    "collapsed": true
   },
   "outputs": [],
   "source": [
    "def ComputeRightChild(tree, parent, computeCol=True):\n",
    "    index = 2*parent+2\n",
    "    \n",
    "    return"
   ]
  },
  {
   "cell_type": "code",
   "execution_count": 43,
   "metadata": {
    "collapsed": true
   },
   "outputs": [],
   "source": [
    "# Construct WHT compute tree\n",
    "def WHTTree(input):\n",
    "    # Check if input is valid\n",
    "    m = np.log2(input.shape[0])\n",
    "    if not m.is_integer:\n",
    "        print(\"input shape is not power of 2!\")\n",
    "        return\n",
    "    if not m == np.log2(input.shape[1]):\n",
    "        print(\"input is not square matrix!\")\n",
    "        return\n",
    "    \n",
    "    h = 2*m # Levels of binary tree\n",
    "    length = int(2**(h+1)-1) # Total length of full binary tree\n",
    "    tree = np.empty(length, dtype=object)\n",
    "    \n",
    "    tree[0] = input\n",
    "    print(tree) \n",
    "        \n",
    "    ComputeLeftChild(tree, 0, True)\n",
    "    ComputeRightChild(tree, 0, True)\n",
    "    \n",
    "    \n",
    "    \n",
    "         \n",
    "    return"
   ]
  },
  {
   "cell_type": "code",
   "execution_count": 44,
   "metadata": {
    "collapsed": true
   },
   "outputs": [],
   "source": [
    "m = 2\n",
    "p = 2**m # window(patch) size"
   ]
  },
  {
   "cell_type": "code",
   "execution_count": 45,
   "metadata": {
    "collapsed": false
   },
   "outputs": [
    {
     "name": "stdout",
     "output_type": "stream",
     "text": [
      "[[179 184 123 246]\n",
      " [ 90  52 101 213]\n",
      " [ 98  80 124 118]\n",
      " [245 128 118   8]]\n"
     ]
    }
   ],
   "source": [
    "input = np.random.randint(255, size=(p, p))\n",
    "print(input)"
   ]
  },
  {
   "cell_type": "code",
   "execution_count": 46,
   "metadata": {
    "collapsed": false
   },
   "outputs": [
    {
     "name": "stdout",
     "output_type": "stream",
     "text": [
      "[ array([[179, 184, 123, 246],\n",
      "       [ 90,  52, 101, 213],\n",
      "       [ 98,  80, 124, 118],\n",
      "       [245, 128, 118,   8]])\n",
      " None None None None None None None None None None None None None None None\n",
      " None None None None None None None None None None None None None None None]\n",
      "('parent = ', 0)\n",
      "('i = ', 0)\n",
      "('i = ', 1)\n",
      "('i = ', 2)\n",
      "('i = ', 3)\n",
      "[[  -5   61 -123   67]\n",
      " [  38  -49 -112  123]\n",
      " [  18  -44    6   20]\n",
      " [ 117   10  110 -237]]\n",
      "('parent = ', 1)\n",
      "[[0 0 0 0]\n",
      " [0 0 0 0]\n",
      " [0 0 0 0]\n",
      " [0 0 0 0]]\n",
      "('parent = ', 3)\n",
      "('i = ', 0)\n",
      "('i = ', 1)\n",
      "('i = ', 2)\n",
      "('i = ', 3)\n",
      "[[0 0 0 0]\n",
      " [0 0 0 0]\n",
      " [0 0 0 0]\n",
      " [0 0 0 0]]\n",
      "('parent = ', 7)\n",
      "[[0 0 0 0]\n",
      " [0 0 0 0]\n",
      " [0 0 0 0]\n",
      " [0 0 0 0]]\n"
     ]
    }
   ],
   "source": [
    "WHTTree(input)"
   ]
  },
  {
   "cell_type": "code",
   "execution_count": null,
   "metadata": {
    "collapsed": true
   },
   "outputs": [],
   "source": []
  },
  {
   "cell_type": "code",
   "execution_count": 20,
   "metadata": {
    "collapsed": false
   },
   "outputs": [
    {
     "data": {
      "text/plain": [
       "array([[0, 0, 0, 0],\n",
       "       [0, 0, 0, 0],\n",
       "       [0, 0, 0, 0],\n",
       "       [0, 0, 0, 0]])"
      ]
     },
     "execution_count": 20,
     "metadata": {},
     "output_type": "execute_result"
    }
   ],
   "source": [
    "np.zeros((4,4), dtype=int)"
   ]
  },
  {
   "cell_type": "code",
   "execution_count": null,
   "metadata": {
    "collapsed": true
   },
   "outputs": [],
   "source": []
  }
 ],
 "metadata": {
  "kernelspec": {
   "display_name": "Python 2",
   "language": "python",
   "name": "python2"
  },
  "language_info": {
   "codemirror_mode": {
    "name": "ipython",
    "version": 2
   },
   "file_extension": ".py",
   "mimetype": "text/x-python",
   "name": "python",
   "nbconvert_exporter": "python",
   "pygments_lexer": "ipython2",
   "version": "2.7.10"
  }
 },
 "nbformat": 4,
 "nbformat_minor": 1
}
