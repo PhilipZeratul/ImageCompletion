{
 "cells": [
  {
   "cell_type": "code",
   "execution_count": 1,
   "metadata": {
    "collapsed": false
   },
   "outputs": [],
   "source": [
    "import numpy as np"
   ]
  },
  {
   "cell_type": "code",
   "execution_count": 2,
   "metadata": {
    "collapsed": false
   },
   "outputs": [],
   "source": [
    "def ComputeLeftChild(tree, parent, computeCol=True):\n",
    "    index = 2*parent+1\n",
    "    if index >= len(tree):\n",
    "        return\n",
    "    \n",
    "    delta = 2**int((int(np.log2(parent+1))/2)) # level = int(log2(index+1))     \n",
    "    if computeCol:\n",
    "        p = tree[parent].shape[0]\n",
    "        tree[index] = np.zeros((p, p - delta), dtype=int)\n",
    "        for i in xrange(0, p - delta):\n",
    "            tree[index][:, i] = tree[parent][:, i] - tree[parent][:, i+delta]\n",
    "            \n",
    "    else:\n",
    "        p = tree[parent].shape[1]\n",
    "        tree[index] = np.zeros((p, p), dtype=int)\n",
    "        for i in xrange(0, p):\n",
    "            tree[index][i, :] = tree[parent][i, :] - tree[parent][i+delta, :]\n",
    "\n",
    "    computeCol = not computeCol\n",
    "    ComputeLeftChild(tree, index, computeCol)\n",
    "    ComputeRightChild(tree, index, computeCol)\n",
    "    return"
   ]
  },
  {
   "cell_type": "code",
   "execution_count": 3,
   "metadata": {
    "collapsed": true
   },
   "outputs": [],
   "source": [
    "def ComputeRightChild(tree, parent, computeCol=True):\n",
    "    index = 2*parent+2\n",
    "    if index >= len(tree):\n",
    "        return\n",
    "    \n",
    "    delta = 2**int((int(np.log2(parent+1))/2)) # level = int(log2(index+1))\n",
    "    if computeCol:\n",
    "        p = tree[parent].shape[0]\n",
    "        tree[index] = np.zeros((p, p - delta), dtype=int)\n",
    "        for i in xrange(0, p - delta):\n",
    "            tree[index][:, i] = tree[parent][:, i] + tree[parent][:, i+delta]\n",
    "            \n",
    "    else:\n",
    "        p = tree[parent].shape[1]\n",
    "        tree[index] = np.zeros((p, p), dtype=int)\n",
    "        for i in xrange(0, p):            \n",
    "            tree[index][i, :] = tree[parent][i, :] + tree[parent][i+delta, :] \n",
    "    \n",
    "    computeCol = not computeCol\n",
    "    ComputeLeftChild(tree, index, computeCol)\n",
    "    ComputeRightChild(tree, index, computeCol)\n",
    "    return"
   ]
  },
  {
   "cell_type": "code",
   "execution_count": 4,
   "metadata": {
    "collapsed": true
   },
   "outputs": [],
   "source": [
    "# Construct WHT compute tree\n",
    "def WHTTree(input):\n",
    "    # Check if input is valid\n",
    "    m = np.log2(input.shape[0])\n",
    "    if not m.is_integer:\n",
    "        print(\"input shape is not power of 2!\")\n",
    "        return\n",
    "    if not m == np.log2(input.shape[1]):\n",
    "        print(\"input is not square matrix!\")\n",
    "        return\n",
    "    \n",
    "    h = 2*m # Levels of binary tree\n",
    "    length = int(2**(h+1)-1) # Total length of full binary tree\n",
    "    tree = np.empty(length, dtype=object)        \n",
    "    tree[0] = input\n",
    "        \n",
    "    ComputeLeftChild(tree, 0, True)\n",
    "    ComputeRightChild(tree, 0, True)                     \n",
    "    return tree"
   ]
  },
  {
   "cell_type": "code",
   "execution_count": 56,
   "metadata": {
    "collapsed": true
   },
   "outputs": [],
   "source": [
    "m = 3 \n",
    "p = 2**m # window(patch) size"
   ]
  },
  {
   "cell_type": "code",
   "execution_count": 57,
   "metadata": {
    "collapsed": false
   },
   "outputs": [
    {
     "name": "stdout",
     "output_type": "stream",
     "text": [
      "[[214 127 109 249 225 218 147 148]\n",
      " [225 100   9  77 108  83  92  89]\n",
      " [  4 208   6  47 209 223 197 107]\n",
      " [ 12 137  57 167  64  27  80 211]\n",
      " [121 168 251 195 207  26  39 200]\n",
      " [110 153 145 202   1 133 219 169]\n",
      " [184  32 253  93  78 242  70  72]\n",
      " [ 92  10 184  64 245 153 164  66]]\n"
     ]
    }
   ],
   "source": [
    "#input = np.array([[1,2,3,4],[5,6,7,8],[9,10,11,12],[13,14,15,16]])\n",
    "input = np.random.randint(255, size=(p, p))\n",
    "print(input)"
   ]
  },
  {
   "cell_type": "code",
   "execution_count": 58,
   "metadata": {
    "collapsed": false
   },
   "outputs": [],
   "source": [
    "tree = WHTTree(input)"
   ]
  },
  {
   "cell_type": "code",
   "execution_count": 60,
   "metadata": {
    "collapsed": false
   },
   "outputs": [
    {
     "data": {
      "text/plain": [
       "array([  751,  -903,   -93,   973,   627,  -283,  -681,  -119,   551,\n",
       "        -367,  -749,   165,  -741,   205,    63,    -7,  1003,   261,\n",
       "         279,   849,   275,    21,   479,   193,   951,   -87,  1227,\n",
       "        -155,  -953,   -31,  -845,   -75,    27,  -627,  -829,  -531,\n",
       "        -173,  -803,   243,   645,   587,   181,   379,   437, -1093,\n",
       "          13,   779,  1021,  -733,   549,   939,  -203,   823,  -383,\n",
       "         823,   -39,   -49,  1009,   127,   801,  -653,  -307,  -365,  8317])"
      ]
     },
     "execution_count": 60,
     "metadata": {},
     "output_type": "execute_result"
    }
   ],
   "source": [
    "np.vstack(tree[-2**(2*m):]).flatten() # All the leaf nodes in the full binary tree to a flat array"
   ]
  },
  {
   "cell_type": "code",
   "execution_count": null,
   "metadata": {
    "collapsed": true
   },
   "outputs": [],
   "source": []
  }
 ],
 "metadata": {
  "kernelspec": {
   "display_name": "Python 2",
   "language": "python",
   "name": "python2"
  },
  "language_info": {
   "codemirror_mode": {
    "name": "ipython",
    "version": 2
   },
   "file_extension": ".py",
   "mimetype": "text/x-python",
   "name": "python",
   "nbconvert_exporter": "python",
   "pygments_lexer": "ipython2",
   "version": "2.7.10"
  }
 },
 "nbformat": 4,
 "nbformat_minor": 1
}
