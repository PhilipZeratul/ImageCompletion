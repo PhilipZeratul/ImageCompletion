{
 "cells": [
  {
   "cell_type": "code",
   "execution_count": 1,
   "metadata": {
    "collapsed": false
   },
   "outputs": [],
   "source": [
    "import numpy as np\n",
    "import cv2\n",
    "from WalshHadamardTransform import WHTTree"
   ]
  },
  {
   "cell_type": "code",
   "execution_count": 3,
   "metadata": {
    "collapsed": false
   },
   "outputs": [],
   "source": [
    "sourceImage = cv2.imread(\"OceanImage.jpg\")\n",
    "sourceImageYCC = cv2.cvtColor(sourceImage, cv2.COLOR_BGR2YCR_CB)\n",
    "sourceY, sourceCr, sourceCb = cv2.split(sourceImageYCC)\n",
    "\n",
    "IMAGE_HEIGHT, IMAGE_WIDTH = sourceImageYCC.shape[:2]"
   ]
  },
  {
   "cell_type": "code",
   "execution_count": null,
   "metadata": {
    "collapsed": true
   },
   "outputs": [],
   "source": [
    "m = 3\n",
    "p = 2 ** m  # window(patch) size\n",
    "numOfBase = 16\n",
    "\n",
    "treeY  = WHTTree(sourceY,  p, numOfBase)\n",
    "treeCr = WHTTree(sourceCr, p, numOfBase)\n",
    "treeCb = WHTTree(sourceCb, p, numOfBase)"
   ]
  }
 ],
 "metadata": {
  "kernelspec": {
   "display_name": "Python 2",
   "language": "python",
   "name": "python2"
  },
  "language_info": {
   "codemirror_mode": {
    "name": "ipython",
    "version": 2
   },
   "file_extension": ".py",
   "mimetype": "text/x-python",
   "name": "python",
   "nbconvert_exporter": "python",
   "pygments_lexer": "ipython2",
   "version": "2.7.10"
  }
 },
 "nbformat": 4,
 "nbformat_minor": 1
}
